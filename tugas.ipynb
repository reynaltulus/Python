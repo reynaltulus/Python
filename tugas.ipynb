{
 "cells": [
  {
   "cell_type": "code",
   "execution_count": 7,
   "metadata": {},
   "outputs": [
    {
     "data": {
      "text/plain": [
       "['naufal']"
      ]
     },
     "execution_count": 7,
     "metadata": {},
     "output_type": "execute_result"
    }
   ],
   "source": [
    "jumlah_pasien=int(input(\"masukkan jumlah pasien:\"))\n",
    "nama_pasien=[]\n",
    "for itenas in range (jumlah_pasien):\n",
    "    pasien = input(f\"masukkan pasien ke {itenas+1}:\")\n",
    "    nama_pasien.append(pasien)\n",
    "nama_pasien"
   ]
  },
  {
   "cell_type": "code",
   "execution_count": 12,
   "metadata": {},
   "outputs": [
    {
     "name": "stdout",
     "output_type": "stream",
     "text": [
      "namanya adalah diash\n",
      "namanya adalah ambalanang\n"
     ]
    }
   ],
   "source": [
    "nama =[\"diash\",\"ambalanang\"]\n",
    "for z in range (2):\n",
    "    print(f\"namanya adalah {nama[z]}\")    "
   ]
  }
 ],
 "metadata": {
  "kernelspec": {
   "display_name": "Python 3",
   "language": "python",
   "name": "python3"
  },
  "language_info": {
   "codemirror_mode": {
    "name": "ipython",
    "version": 3
   },
   "file_extension": ".py",
   "mimetype": "text/x-python",
   "name": "python",
   "nbconvert_exporter": "python",
   "pygments_lexer": "ipython3",
   "version": "3.13.0"
  }
 },
 "nbformat": 4,
 "nbformat_minor": 2
}
