{
 "cells": [
  {
   "cell_type": "code",
   "execution_count": null,
   "metadata": {},
   "outputs": [
    {
     "name": "stdout",
     "output_type": "stream",
     "text": [
      "nama saya adalah diash,saya berasal dari ujung berung,usia saya 25\n"
     ]
    },
    {
     "data": {
      "text/plain": [
       "{'nama': 'diash',\n",
       " 'usia': '26',\n",
       " 'kota': 'ujung berung',\n",
       " 'pekerjaan': 'programmer'}"
      ]
     },
     "execution_count": 6,
     "metadata": {},
     "output_type": "execute_result"
    }
   ],
   "source": [
    "#membuat dictionary kosong\n",
    "kamusku = {}\n",
    "\n",
    "# membuat dictionary dengan data awal \n",
    "kamusku = {'nama':'diash', 'usia': 25, 'kota': 'ujung berung'}\n",
    "\n",
    "nama_saya = kamusku['nama']\n",
    "asal_kota = kamusku['kota']\n",
    "usia = kamusku['usia']\n",
    "\n",
    "print(f'nama saya adalah {nama_saya},saya berasal dari {asal_kota},usia saya {usia}')\n",
    "\n",
    "kamusku['pekerjaan'] = 'programmer'\n",
    "kamusku['usia'] = '26'\n",
    "kamusku\n",
    "\n"
   ]
  },
  {
   "cell_type": "code",
   "execution_count": 8,
   "metadata": {},
   "outputs": [
    {
     "ename": "NameError",
     "evalue": "name 'kamusku' is not defined",
     "output_type": "error",
     "traceback": [
      "\u001b[1;31m---------------------------------------------------------------------------\u001b[0m",
      "\u001b[1;31mNameError\u001b[0m                                 Traceback (most recent call last)",
      "Cell \u001b[1;32mIn[8], line 2\u001b[0m\n\u001b[0;32m      1\u001b[0m \u001b[38;5;66;03m# menghapus item dengan del\u001b[39;00m\n\u001b[1;32m----> 2\u001b[0m \u001b[38;5;28;01mdel\u001b[39;00m \u001b[43mkamusku\u001b[49m[\u001b[38;5;124m'\u001b[39m\u001b[38;5;124mkota\u001b[39m\u001b[38;5;124m'\u001b[39m]\n\u001b[0;32m      3\u001b[0m kamusku\n\u001b[0;32m      5\u001b[0m \u001b[38;5;66;03m#mengguankan pop untuk menghapus dan mendapatkan nilai dimasukkan kedalam variabel\u001b[39;00m\n",
      "\u001b[1;31mNameError\u001b[0m: name 'kamusku' is not defined"
     ]
    }
   ],
   "source": [
    "# menghapus item dengan del\n",
    "del kamusku['kota']\n",
    "kamusku\n",
    "\n",
    "#mengguankan pop untuk menghapus dan mendapatkan nilai dimasukkan kedalam variabel\n",
    "kota = kamusku.pop('kota')\n",
    "kota"
   ]
  },
  {
   "cell_type": "code",
   "execution_count": 7,
   "metadata": {},
   "outputs": [
    {
     "data": {
      "text/plain": [
       "{'a': 3, 'b': 4}"
      ]
     },
     "execution_count": 7,
     "metadata": {},
     "output_type": "execute_result"
    }
   ],
   "source": [
    "dict1 = {'a':1, 'b': 2}\n",
    "dict2 = {'a':3, 'b': 4}\n",
    "dict1.update(dict2)\n",
    "dict1"
   ]
  },
  {
   "cell_type": "code",
   "execution_count": 8,
   "metadata": {},
   "outputs": [
    {
     "name": "stdout",
     "output_type": "stream",
     "text": [
      "diash\n",
      "27\n",
      "ujung berung\n"
     ]
    }
   ],
   "source": [
    "kamusku = {'nama':'diash', 'usia': 25, 'kota': 'ujung berung'}\n",
    "kamusku ['usia'] = 27\n",
    "\n",
    "for i in kamusku.values():\n",
    "    print(i)"
   ]
  },
  {
   "cell_type": "code",
   "execution_count": 9,
   "metadata": {},
   "outputs": [
    {
     "name": "stdout",
     "output_type": "stream",
     "text": [
      "nama diash\n",
      "usia 27\n",
      "kota ujung berung\n"
     ]
    }
   ],
   "source": [
    "for i,j in kamusku.items():\n",
    "    print(i,j)"
   ]
  },
  {
   "cell_type": "code",
   "execution_count": null,
   "metadata": {},
   "outputs": [
    {
     "ename": "SyntaxError",
     "evalue": "cannot assign to literal here. Maybe you meant '==' instead of '='? (1664471928.py, line 3)",
     "output_type": "error",
     "traceback": [
      "\u001b[1;36m  Cell \u001b[1;32mIn[8], line 3\u001b[1;36m\u001b[0m\n\u001b[1;33m    'orang1' = {'nama':'diash', 'usia': 25, },\u001b[0m\n\u001b[1;37m    ^\u001b[0m\n\u001b[1;31mSyntaxError\u001b[0m\u001b[1;31m:\u001b[0m cannot assign to literal here. Maybe you meant '==' instead of '='?\n"
     ]
    }
   ],
   "source": [
    "# dictionar bersarang yang berisi informasi orang\n",
    "dictionary_banyak = {\n",
    "    'orang1' = {'nama':'diash', 'usia': 25, },\n",
    "    'orang2' = {'nama':'alara', 'usia': 1, }\n",
    "}\n",
    "\n",
    "#nama_orang1 = dictionary_banyak ['orang1']['nama']\n",
    "#usia_orang1 = dictionary_banyak ['orang1']['nama']\n",
    "#nama_orang2 = dictionary_banyak ['orang2']['nama']\n",
    "#usia_orang2= dictionary_banyak ['orang2']['nama']\n",
    "\n",
    "#print(f\"nama orang 1 : {nama_orang1}, usia: {usia_orang1}\")\n",
    "#print(f\"nama orang 2 : {nama_orang2}, usia: {usia_orang2}\")\n",
    "\n",
    "for i, j in dictionary_banyak.items():\n",
    "    print(i,j)"
   ]
  }
 ],
 "metadata": {
  "kernelspec": {
   "display_name": "Python 3",
   "language": "python",
   "name": "python3"
  },
  "language_info": {
   "codemirror_mode": {
    "name": "ipython",
    "version": 3
   },
   "file_extension": ".py",
   "mimetype": "text/x-python",
   "name": "python",
   "nbconvert_exporter": "python",
   "pygments_lexer": "ipython3",
   "version": "3.13.0"
  }
 },
 "nbformat": 4,
 "nbformat_minor": 2
}
