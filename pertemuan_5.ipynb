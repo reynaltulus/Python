{
 "cells": [
  {
   "cell_type": "code",
   "execution_count": null,
   "metadata": {},
   "outputs": [],
   "source": [
    "buahbuahan = [\"apple\",'banana','cherry']\n",
    "\n",
    "buahbuahan.insert(0,\"magga\")\n",
    "#menambahkan element kedalam list\n",
    "buahbuahan.append('durian')\n",
    "\n",
    "#megakses elemen\n",
    "pilihan = buahbuahan[]\n"
   ]
  },
  {
   "cell_type": "code",
   "execution_count": 1,
   "metadata": {},
   "outputs": [
    {
     "name": "stdout",
     "output_type": "stream",
     "text": [
      "index ke (i) buahnya adalah mangga\n",
      "index ke (i) buahnya adalah banana\n"
     ]
    }
   ],
   "source": [
    "#list\n",
    "Buahbuahan =['appple','banana','cherry','mangga']\n",
    "\n",
    "#Iterasi menggunakan for\n",
    "for i in range(3,0,-2):\n",
    "    print(f\"index ke (i) buahnya adalah {Buahbuahan[i]}\")"
   ]
  },
  {
   "cell_type": "code",
   "execution_count": 4,
   "metadata": {},
   "outputs": [
    {
     "name": "stdout",
     "output_type": "stream",
     "text": [
      " buahnya adalah ['banana', 'cherry', 'mangga']\n",
      " buahnya adalah ['cherry', 'mangga']\n"
     ]
    }
   ],
   "source": [
    "#list\n",
    "Buahbuahan =['appple','banana','cherry','mangga']\n",
    "\n",
    "#Iterasi menggunakan for\n",
    "for i in range(1,3):\n",
    "    buah = 0\n",
    "    Buahbuahan.pop(buah)\n",
    "    print(f\" buahnya adalah {Buahbuahan}\")"
   ]
  },
  {
   "cell_type": "code",
   "execution_count": 9,
   "metadata": {},
   "outputs": [
    {
     "name": "stdout",
     "output_type": "stream",
     "text": [
      "perulangan ke 1\n",
      "perulangan ke 2\n",
      "perulangan ke 3\n",
      "perulangan ke 4\n",
      "perulangan ke 5\n",
      "perulangan ke 6\n",
      "perulangan ke 7\n",
      "perulangan ke 8\n",
      "perulangan ke 9\n",
      "perulangan ke 10\n",
      "perulangan ke 11\n",
      "perulangan ke 12\n",
      "perulangan ke 13\n",
      "perulangan ke 14\n",
      "perulangan ke 15\n",
      "perulangan ke 16\n",
      "perulangan ke 17\n",
      "perulangan ke 18\n",
      "perulangan ke 19\n",
      "perulangan ke 20\n",
      "perulangan ke 21\n",
      "perulangan ke 22\n",
      "perulangan ke 23\n",
      "perulangan ke 24\n",
      "perulangan ke 25\n",
      "perulangan ke 26\n",
      "perulangan ke 27\n",
      "perulangan ke 28\n",
      "perulangan ke 29\n",
      "perulangan ke 30\n",
      "perulangan ke 31\n",
      "perulangan ke 32\n",
      "perulangan ke 33\n",
      "perulangan ke 34\n",
      "perulangan ke 35\n",
      "perulangan ke 36\n",
      "perulangan ke 37\n",
      "perulangan ke 38\n",
      "perulangan ke 39\n",
      "perulangan ke 40\n",
      "perulangan ke 41\n",
      "perulangan ke 42\n",
      "perulangan ke 43\n",
      "perulangan ke 44\n",
      "perulangan ke 45\n",
      "perulangan ke 46\n",
      "perulangan ke 47\n",
      "perulangan ke 48\n",
      "perulangan ke 49\n",
      "perulangan ke 50\n",
      "perulangan ke 51\n",
      "perulangan ke 52\n",
      "perulangan ke 53\n",
      "perulangan ke 54\n",
      "perulangan ke 55\n",
      "perulangan ke 56\n",
      "perulangan ke 57\n",
      "perulangan ke 58\n",
      "perulangan ke 59\n",
      "perulangan ke 60\n",
      "perulangan ke 61\n",
      "perulangan ke 62\n",
      "perulangan ke 63\n",
      "perulangan ke 64\n",
      "perulangan ke 65\n",
      "perulangan ke 66\n",
      "perulangan ke 67\n",
      "perulangan ke 68\n",
      "perulangan ke 69\n",
      "perulangan ke 70\n",
      "perulangan ke 71\n",
      "perulangan ke 72\n",
      "perulangan ke 73\n",
      "perulangan ke 74\n",
      "perulangan ke 75\n",
      "perulangan ke 76\n",
      "perulangan ke 77\n",
      "perulangan ke 78\n",
      "perulangan ke 79\n",
      "perulangan ke 80\n",
      "perulangan ke 81\n",
      "perulangan ke 82\n",
      "perulangan ke 83\n",
      "perulangan ke 84\n",
      "perulangan ke 85\n",
      "perulangan ke 86\n",
      "perulangan ke 87\n",
      "perulangan ke 88\n",
      "perulangan ke 89\n",
      "perulangan ke 90\n",
      "perulangan ke 91\n",
      "perulangan ke 92\n",
      "perulangan ke 93\n",
      "perulangan ke 94\n",
      "perulangan ke 95\n",
      "perulangan ke 96\n",
      "perulangan ke 97\n",
      "perulangan ke 98\n",
      "perulangan ke 99\n",
      "perulangan ke 100\n",
      "akhirnya no 7 ketemu\n"
     ]
    }
   ],
   "source": [
    "found = False\n",
    "i = 0 \n",
    "while not found:\n",
    "    if i == 100:\n",
    "        found = True\n",
    "        print(\"akhirnya no 7 ketemu\")\n",
    "    else:\n",
    "        i += 1\n",
    "        print(f\"perulangan ke {i}\")"
   ]
  },
  {
   "cell_type": "code",
   "execution_count": 19,
   "metadata": {},
   "outputs": [
    {
     "ename": "SyntaxError",
     "evalue": "invalid syntax (2960168760.py, line 2)",
     "output_type": "error",
     "traceback": [
      "\u001b[1;36m  Cell \u001b[1;32mIn[19], line 2\u001b[1;36m\u001b[0m\n\u001b[1;33m    nama_yang_dicari = 'ambalanang':\u001b[0m\n\u001b[1;37m                                   ^\u001b[0m\n\u001b[1;31mSyntaxError\u001b[0m\u001b[1;31m:\u001b[0m invalid syntax\n"
     ]
    }
   ],
   "source": [
    "nama = {1,'firdaus','ambalanag','informatika'}\n",
    "nama_yang_dicari = 'ambalanang'\n",
    "ada = False\n",
    "\n",
    "for n in range (0,4):\n",
    "    print(f\"perulangan ke {n}\")\n",
    "    if nama [n] == nama_yang_dicari:\n",
    "        ada = True\n",
    "        break\n",
    "\n",
    "if ada:\n",
    "    print(nama_yang_dicari,'ada dalam list.')\n",
    "else:\n",
    "    print(nama_yang_dicari,'tidak ada dalam list.')"
   ]
  },
  {
   "cell_type": "code",
   "execution_count": null,
   "metadata": {},
   "outputs": [],
   "source": []
  }
 ],
 "metadata": {
  "kernelspec": {
   "display_name": "Python 3",
   "language": "python",
   "name": "python3"
  },
  "language_info": {
   "codemirror_mode": {
    "name": "ipython",
    "version": 3
   },
   "file_extension": ".py",
   "mimetype": "text/x-python",
   "name": "python",
   "nbconvert_exporter": "python",
   "pygments_lexer": "ipython3",
   "version": "3.13.0"
  }
 },
 "nbformat": 4,
 "nbformat_minor": 2
}
